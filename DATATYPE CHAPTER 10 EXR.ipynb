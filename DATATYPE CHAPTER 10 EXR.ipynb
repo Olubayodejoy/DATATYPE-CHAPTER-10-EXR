{
 "cells": [
  {
   "cell_type": "markdown",
   "id": "9f35f3fc",
   "metadata": {},
   "source": [
    "# CHAPTER 10"
   ]
  },
  {
   "cell_type": "markdown",
   "id": "97ed8452",
   "metadata": {},
   "source": [
    "1. Write a program that uses list and range to create the list [3,6, 9, . . . , 99]."
   ]
  },
  {
   "cell_type": "code",
   "execution_count": 1,
   "id": "d9326263",
   "metadata": {},
   "outputs": [
    {
     "name": "stdout",
     "output_type": "stream",
     "text": [
      "[3, 6, 9, 12, 15, 18, 21, 24, 27, 30, 33, 36, 39, 42, 45, 48, 51, 54, 57, 60, 63, 66, 69, 72, 75, 78, 81, 84, 87, 90, 93, 96, 99]\n"
     ]
    }
   ],
   "source": [
    "crt_list = list(range(3,100,3))\n",
    "print(crt_list)"
   ]
  },
  {
   "cell_type": "code",
   "execution_count": 1,
   "id": "95b1a829",
   "metadata": {},
   "outputs": [
    {
     "name": "stdout",
     "output_type": "stream",
     "text": [
      "3\n",
      "6\n",
      "9\n",
      "12\n",
      "15\n",
      "18\n",
      "21\n",
      "24\n",
      "27\n",
      "30\n",
      "33\n",
      "36\n",
      "39\n",
      "42\n",
      "45\n",
      "48\n",
      "51\n",
      "54\n",
      "57\n",
      "60\n",
      "63\n",
      "66\n",
      "69\n",
      "72\n",
      "75\n",
      "78\n",
      "81\n",
      "84\n",
      "87\n",
      "90\n",
      "93\n",
      "96\n",
      "99\n"
     ]
    }
   ],
   "source": [
    "for i in range(3,100,3):\n",
    "    print(i)"
   ]
  },
  {
   "cell_type": "markdown",
   "id": "9a9a081c",
   "metadata": {},
   "source": [
    "2. Write a program that asks the user for a weight in kilograms. The program should convert\n",
    "    the weight to kilograms, formatting the result to one decimal place.\n"
   ]
  },
  {
   "cell_type": "code",
   "execution_count": 8,
   "id": "ef0cfa1b",
   "metadata": {},
   "outputs": [
    {
     "name": "stdout",
     "output_type": "stream",
     "text": [
      "Enter ur weight in pounds : 23.273362\n",
      "10.6\n"
     ]
    }
   ],
   "source": [
    "weight = float(input('Enter ur weight in pounds : '))\n",
    "weight_in_kilogram = weight * 0.453592\n",
    "result_format = round(weight_in_kilogram, 1)\n",
    "print(result_format)"
   ]
  },
  {
   "cell_type": "markdown",
   "id": "f3567eb3",
   "metadata": {},
   "source": [
    "3. Write a program that asks the user to enter a word. Rearrange all the letters of the word\n",
    "    in alphabetical order and print out the resulting word. For example, abracadabra should\n",
    "    become aaaaabbcdrr."
   ]
  },
  {
   "cell_type": "code",
   "execution_count": 3,
   "id": "c4b32347",
   "metadata": {},
   "outputs": [
    {
     "name": "stdout",
     "output_type": "stream",
     "text": [
      "Enter a word : hippopotamus\n",
      "ahimoopppstu\n"
     ]
    }
   ],
   "source": [
    "word = input('Enter a word : ')\n",
    "sorted_word = ''.join(sorted(word))\n",
    "print(sorted_word)"
   ]
  },
  {
   "cell_type": "markdown",
   "id": "95b1872c",
   "metadata": {},
   "source": [
    "4. Write a program that takes a list of ten prices and ten products, applies an 11% discount to\n",
    "    each of the prices displays the output like below, right-justified and nicely formatted.\n",
    "        Apples $ 2.45\n",
    "        Oranges $ 18.02\n",
    "        ...\n",
    "        Pears $120.03"
   ]
  },
  {
   "cell_type": "code",
   "execution_count": 22,
   "id": "f1467454",
   "metadata": {},
   "outputs": [
    {
     "name": "stdout",
     "output_type": "stream",
     "text": [
      "Apples          $   2.45\n",
      "Oranges         $  16.04\n",
      "Bananas         $   1.33\n",
      "Grapes          $   4.27\n",
      "Pears           $ 106.83\n",
      "Mangoes         $  13.57\n",
      "Peaches         $   3.20\n",
      "Cherries        $   8.89\n",
      "Strawberries    $   6.67\n",
      "Blueberries     $   7.34\n"
     ]
    }
   ],
   "source": [
    "def apply_discount_and_format(products, prices):\n",
    "\n",
    "    discounted_prices = [price * 0.89 for price in prices]\n",
    "\n",
    "    for product, price in zip(products, discounted_prices):\n",
    "        print(f\"{product:<15} ${price:>7.2f}\")\n",
    "\n",
    "\n",
    "products = [\"Apples\", \"Oranges\", \"Bananas\", \"Grapes\", \"Pears\", \n",
    "            \"Mangoes\", \"Peaches\", \"Cherries\", \"Strawberries\", \"Blueberries\"]\n",
    "prices = [2.75, 18.02, 1.50, 4.80, 120.03, 15.25, 3.60, 9.99, 7.50, 8.25]\n",
    "\n",
    "\n",
    "apply_discount_and_format(products, prices)\n"
   ]
  },
  {
   "cell_type": "code",
   "execution_count": 23,
   "id": "9228dcbe",
   "metadata": {},
   "outputs": [
    {
     "ename": "KeyboardInterrupt",
     "evalue": "Interrupted by user",
     "output_type": "error",
     "traceback": [
      "\u001b[1;31m---------------------------------------------------------------------------\u001b[0m",
      "\u001b[1;31mKeyboardInterrupt\u001b[0m                         Traceback (most recent call last)",
      "Cell \u001b[1;32mIn[23], line 3\u001b[0m\n\u001b[0;32m      1\u001b[0m \u001b[38;5;66;03m#place = {}\u001b[39;00m\n\u001b[0;32m      2\u001b[0m \u001b[38;5;28;01mfor\u001b[39;00m i \u001b[38;5;129;01min\u001b[39;00m \u001b[38;5;28mrange\u001b[39m(\u001b[38;5;241m10\u001b[39m):\n\u001b[1;32m----> 3\u001b[0m     x \u001b[38;5;241m=\u001b[39m \u001b[38;5;28minput\u001b[39m(\u001b[38;5;124m'\u001b[39m\u001b[38;5;124menter the name of the product\u001b[39m\u001b[38;5;124m'\u001b[39m)\n\u001b[0;32m      4\u001b[0m     y \u001b[38;5;241m=\u001b[39m \u001b[38;5;28mfloat\u001b[39m(\u001b[38;5;28minput\u001b[39m(\u001b[38;5;124m'\u001b[39m\u001b[38;5;124mEnter price of goods\u001b[39m\u001b[38;5;124m'\u001b[39m))\n\u001b[0;32m      6\u001b[0m     place[x] \u001b[38;5;241m=\u001b[39m y\n",
      "File \u001b[1;32mC:\\ProgramData\\anaconda3\\Lib\\site-packages\\ipykernel\\kernelbase.py:1202\u001b[0m, in \u001b[0;36mKernel.raw_input\u001b[1;34m(self, prompt)\u001b[0m\n\u001b[0;32m   1200\u001b[0m     msg \u001b[38;5;241m=\u001b[39m \u001b[38;5;124m\"\u001b[39m\u001b[38;5;124mraw_input was called, but this frontend does not support input requests.\u001b[39m\u001b[38;5;124m\"\u001b[39m\n\u001b[0;32m   1201\u001b[0m     \u001b[38;5;28;01mraise\u001b[39;00m StdinNotImplementedError(msg)\n\u001b[1;32m-> 1202\u001b[0m \u001b[38;5;28;01mreturn\u001b[39;00m \u001b[38;5;28mself\u001b[39m\u001b[38;5;241m.\u001b[39m_input_request(\n\u001b[0;32m   1203\u001b[0m     \u001b[38;5;28mstr\u001b[39m(prompt),\n\u001b[0;32m   1204\u001b[0m     \u001b[38;5;28mself\u001b[39m\u001b[38;5;241m.\u001b[39m_parent_ident[\u001b[38;5;124m\"\u001b[39m\u001b[38;5;124mshell\u001b[39m\u001b[38;5;124m\"\u001b[39m],\n\u001b[0;32m   1205\u001b[0m     \u001b[38;5;28mself\u001b[39m\u001b[38;5;241m.\u001b[39mget_parent(\u001b[38;5;124m\"\u001b[39m\u001b[38;5;124mshell\u001b[39m\u001b[38;5;124m\"\u001b[39m),\n\u001b[0;32m   1206\u001b[0m     password\u001b[38;5;241m=\u001b[39m\u001b[38;5;28;01mFalse\u001b[39;00m,\n\u001b[0;32m   1207\u001b[0m )\n",
      "File \u001b[1;32mC:\\ProgramData\\anaconda3\\Lib\\site-packages\\ipykernel\\kernelbase.py:1245\u001b[0m, in \u001b[0;36mKernel._input_request\u001b[1;34m(self, prompt, ident, parent, password)\u001b[0m\n\u001b[0;32m   1242\u001b[0m \u001b[38;5;28;01mexcept\u001b[39;00m \u001b[38;5;167;01mKeyboardInterrupt\u001b[39;00m:\n\u001b[0;32m   1243\u001b[0m     \u001b[38;5;66;03m# re-raise KeyboardInterrupt, to truncate traceback\u001b[39;00m\n\u001b[0;32m   1244\u001b[0m     msg \u001b[38;5;241m=\u001b[39m \u001b[38;5;124m\"\u001b[39m\u001b[38;5;124mInterrupted by user\u001b[39m\u001b[38;5;124m\"\u001b[39m\n\u001b[1;32m-> 1245\u001b[0m     \u001b[38;5;28;01mraise\u001b[39;00m \u001b[38;5;167;01mKeyboardInterrupt\u001b[39;00m(msg) \u001b[38;5;28;01mfrom\u001b[39;00m \u001b[38;5;28;01mNone\u001b[39;00m\n\u001b[0;32m   1246\u001b[0m \u001b[38;5;28;01mexcept\u001b[39;00m \u001b[38;5;167;01mException\u001b[39;00m:\n\u001b[0;32m   1247\u001b[0m     \u001b[38;5;28mself\u001b[39m\u001b[38;5;241m.\u001b[39mlog\u001b[38;5;241m.\u001b[39mwarning(\u001b[38;5;124m\"\u001b[39m\u001b[38;5;124mInvalid Message:\u001b[39m\u001b[38;5;124m\"\u001b[39m, exc_info\u001b[38;5;241m=\u001b[39m\u001b[38;5;28;01mTrue\u001b[39;00m)\n",
      "\u001b[1;31mKeyboardInterrupt\u001b[0m: Interrupted by user"
     ]
    }
   ],
   "source": [
    "place = {}\n",
    "for i in range(10):\n",
    "    x = input('enter the name of the product')\n",
    "    y = float(input('Enter price of goods'))\n",
    "\n",
    "    place[x] = y"
   ]
  },
  {
   "cell_type": "markdown",
   "id": "e42db2a6",
   "metadata": {},
   "source": [
    "5. Use the following two lists and the format method to create a list of card names in the format\n",
    "    card value of suit name (for example, 'Two of Clubs').\n",
    "    suits = ['Hearts', 'Diamonds', 'Clubs', 'Spades']\n",
    "    values = ['One', 'Two', 'Three', 'Four', 'Five', 'Six', 'Seven',\n",
    "    'Eight', 'Nine', 'Ten', 'Jack', 'Queen', 'King', 'Ace']"
   ]
  },
  {
   "cell_type": "code",
   "execution_count": null,
   "id": "92d69c17",
   "metadata": {},
   "outputs": [],
   "source": [
    "suits = ['Hearts', 'Diamonds', 'Clubs', 'Spades']\n",
    "values = ['One', 'Two', 'Three', 'Four', 'Five', 'Six', 'Seven', 'Eight', 'Nine', 'Ten', 'Jack', 'Queen', 'King', 'Ace']\n",
    "\n",
    "\n",
    "cards = [\"{} of {}\".format(value, suit) for suit in suits for value in values]\n",
    "e:\n",
    "for card in cards:\n",
    "    print(card)\n"
   ]
  },
  {
   "cell_type": "markdown",
   "id": "9d50b83f",
   "metadata": {},
   "source": [
    "6. Write a program that uses a boolean flag variable in determining whether two lists have any items in common"
   ]
  },
  {
   "cell_type": "code",
   "execution_count": 5,
   "id": "38f29c26",
   "metadata": {},
   "outputs": [
    {
     "name": "stdout",
     "output_type": "stream",
     "text": [
      "The lists have common items.\n"
     ]
    }
   ],
   "source": [
    "def have_common_items(list1, list2):\n",
    "   \n",
    "    has_common_items = False\n",
    "    \n",
    " \n",
    "    for item in list1:\n",
    "        if item in list2:\n",
    "            has_common_items = True\n",
    "            break  \n",
    "    \n",
    "    return has_common_items\n",
    "\n",
    "list1 = [1, 2, 3, 4, 5]\n",
    "list2 = [7, 8, 3, 10]\n",
    "\n",
    "result = have_common_items(list1, list2)\n",
    "if result:\n",
    "    print(\"The lists have common items.\")\n",
    "else:\n",
    "    print(\"The lists do not have any common items.\")\n"
   ]
  },
  {
   "cell_type": "markdown",
   "id": "fe9e9d6e",
   "metadata": {},
   "source": [
    "7. Write a program that creates the list [1,11,111,1111,...,111...1], where the entrieshave an ever increasing number of ones,  with the last entry having 100 ones."
   ]
  },
  {
   "cell_type": "code",
   "execution_count": 6,
   "id": "3098edc8",
   "metadata": {},
   "outputs": [
    {
     "name": "stdout",
     "output_type": "stream",
     "text": [
      "[1, 11, 111, 1111, 11111, 111111, 1111111, 11111111, 111111111, 1111111111, 11111111111, 111111111111, 1111111111111, 11111111111111, 111111111111111, 1111111111111111, 11111111111111111, 111111111111111111, 1111111111111111111, 11111111111111111111, 111111111111111111111, 1111111111111111111111, 11111111111111111111111, 111111111111111111111111, 1111111111111111111111111, 11111111111111111111111111, 111111111111111111111111111, 1111111111111111111111111111, 11111111111111111111111111111, 111111111111111111111111111111, 1111111111111111111111111111111, 11111111111111111111111111111111, 111111111111111111111111111111111, 1111111111111111111111111111111111, 11111111111111111111111111111111111, 111111111111111111111111111111111111, 1111111111111111111111111111111111111, 11111111111111111111111111111111111111, 111111111111111111111111111111111111111, 1111111111111111111111111111111111111111, 11111111111111111111111111111111111111111, 111111111111111111111111111111111111111111, 1111111111111111111111111111111111111111111, 11111111111111111111111111111111111111111111, 111111111111111111111111111111111111111111111, 1111111111111111111111111111111111111111111111, 11111111111111111111111111111111111111111111111, 111111111111111111111111111111111111111111111111, 1111111111111111111111111111111111111111111111111, 11111111111111111111111111111111111111111111111111, 111111111111111111111111111111111111111111111111111, 1111111111111111111111111111111111111111111111111111, 11111111111111111111111111111111111111111111111111111, 111111111111111111111111111111111111111111111111111111, 1111111111111111111111111111111111111111111111111111111, 11111111111111111111111111111111111111111111111111111111, 111111111111111111111111111111111111111111111111111111111, 1111111111111111111111111111111111111111111111111111111111, 11111111111111111111111111111111111111111111111111111111111, 111111111111111111111111111111111111111111111111111111111111, 1111111111111111111111111111111111111111111111111111111111111, 11111111111111111111111111111111111111111111111111111111111111, 111111111111111111111111111111111111111111111111111111111111111, 1111111111111111111111111111111111111111111111111111111111111111, 11111111111111111111111111111111111111111111111111111111111111111, 111111111111111111111111111111111111111111111111111111111111111111, 1111111111111111111111111111111111111111111111111111111111111111111, 11111111111111111111111111111111111111111111111111111111111111111111, 111111111111111111111111111111111111111111111111111111111111111111111, 1111111111111111111111111111111111111111111111111111111111111111111111, 11111111111111111111111111111111111111111111111111111111111111111111111, 111111111111111111111111111111111111111111111111111111111111111111111111, 1111111111111111111111111111111111111111111111111111111111111111111111111, 11111111111111111111111111111111111111111111111111111111111111111111111111, 111111111111111111111111111111111111111111111111111111111111111111111111111, 1111111111111111111111111111111111111111111111111111111111111111111111111111, 11111111111111111111111111111111111111111111111111111111111111111111111111111, 111111111111111111111111111111111111111111111111111111111111111111111111111111, 1111111111111111111111111111111111111111111111111111111111111111111111111111111, 11111111111111111111111111111111111111111111111111111111111111111111111111111111, 111111111111111111111111111111111111111111111111111111111111111111111111111111111, 1111111111111111111111111111111111111111111111111111111111111111111111111111111111, 11111111111111111111111111111111111111111111111111111111111111111111111111111111111, 111111111111111111111111111111111111111111111111111111111111111111111111111111111111, 1111111111111111111111111111111111111111111111111111111111111111111111111111111111111, 11111111111111111111111111111111111111111111111111111111111111111111111111111111111111, 111111111111111111111111111111111111111111111111111111111111111111111111111111111111111, 1111111111111111111111111111111111111111111111111111111111111111111111111111111111111111, 11111111111111111111111111111111111111111111111111111111111111111111111111111111111111111, 111111111111111111111111111111111111111111111111111111111111111111111111111111111111111111, 1111111111111111111111111111111111111111111111111111111111111111111111111111111111111111111, 11111111111111111111111111111111111111111111111111111111111111111111111111111111111111111111, 111111111111111111111111111111111111111111111111111111111111111111111111111111111111111111111, 1111111111111111111111111111111111111111111111111111111111111111111111111111111111111111111111, 11111111111111111111111111111111111111111111111111111111111111111111111111111111111111111111111, 111111111111111111111111111111111111111111111111111111111111111111111111111111111111111111111111, 1111111111111111111111111111111111111111111111111111111111111111111111111111111111111111111111111, 11111111111111111111111111111111111111111111111111111111111111111111111111111111111111111111111111, 111111111111111111111111111111111111111111111111111111111111111111111111111111111111111111111111111, 1111111111111111111111111111111111111111111111111111111111111111111111111111111111111111111111111111]\n"
     ]
    }
   ],
   "source": [
    "def generate_ones_list(n):\n",
    "    ones_list = []\n",
    "    for i in range(1, n + 1):\n",
    "        ones_string = '1' * i\n",
    "        ones_list.append(int(ones_string))\n",
    "    return ones_list\n",
    "\n",
    "result = generate_ones_list(100)\n",
    "\n",
    "print(result)\n"
   ]
  },
  {
   "cell_type": "markdown",
   "id": "fae81820",
   "metadata": {},
   "source": [
    "8. Write a program to find all numbers between 1 and 1000 that are divisible by 7 and end in a 6"
   ]
  },
  {
   "cell_type": "code",
   "execution_count": null,
   "id": "45125a28",
   "metadata": {},
   "outputs": [],
   "source": [
    "def find_numbers():\n",
    "    result = []\n",
    "    for number in range(1, 1001):\n",
    "        if number % 7 == 0 and number % 10 == 6:\n",
    "            result.append(number)\n",
    "    return result\n",
    "\n",
    "\n",
    "numbers = find_numbers()\n",
    "print(numbers)\n"
   ]
  },
  {
   "cell_type": "markdown",
   "id": "d0a2f8cc",
   "metadata": {},
   "source": [
    "9. Write a program to determine how many of the numbers between 1 and 10000 contain the digit 3"
   ]
  },
  {
   "cell_type": "code",
   "execution_count": 7,
   "id": "890ebc39",
   "metadata": {},
   "outputs": [
    {
     "name": "stdout",
     "output_type": "stream",
     "text": [
      "Number of numbers between 1 and 10000 containing the digit 3: 3439\n"
     ]
    }
   ],
   "source": [
    "def count_numbers_with_digit(digit, start, end):\n",
    "    count = 0\n",
    "    for number in range(start, end + 1):\n",
    "        if str(digit) in str(number):\n",
    "            count += 1\n",
    "    return count\n",
    "\n",
    "digit_to_find = 3\n",
    "start_range = 1\n",
    "end_range = 10000\n",
    "\n",
    "\n",
    "count = count_numbers_with_digit(digit_to_find, start_range, end_range)\n",
    "print(f\"Number of numbers between {start_range} and {end_range} containing the digit {digit_to_find}: {count}\")\n"
   ]
  },
  {
   "cell_type": "markdown",
   "id": "24a2886f",
   "metadata": {},
   "source": [
    "10. Adding certain numbers to their reversals sometimes produces a palindromic number. For\n",
    "    instance, 241 + 142 = 383. Sometimes, we have to repeat the process. For instance, 84 + 48 =\n",
    "    132 and 132 + 231 = 363. Write a program that finds both two-digit numbers for which this\n",
    "    process must be repeated more than 20 times to obtain a palindromic number"
   ]
  },
  {
   "cell_type": "code",
   "execution_count": 9,
   "id": "12eb242e",
   "metadata": {},
   "outputs": [
    {
     "name": "stdout",
     "output_type": "stream",
     "text": [
      "Two-digit numbers requiring more than 20 steps to become a palindrome: [89, 98]\n"
     ]
    }
   ],
   "source": [
    "def is_palindrome(num):\n",
    "    \"\"\"Check if a number is a palindrome.\"\"\"\n",
    "    return str(num) == str(num)[::-1]\n",
    "\n",
    "def reverse_number(num):\n",
    "    \"\"\"Reverse the digits of a number.\"\"\"\n",
    "    return int(str(num)[::-1])\n",
    "\n",
    "def process_number(num):\n",
    "    \"\"\"Process the number by adding it to its reversal until it becomes a palindrome or reaches 20 iterations.\"\"\"\n",
    "    iterations = 0\n",
    "    while not is_palindrome(num) and iterations < 20:\n",
    "        reversed_num = reverse_number(num)\n",
    "        num = num + reversed_num\n",
    "        iterations += 1\n",
    "    return iterations >= 20\n",
    "\n",
    "def find_two_digit_numbers():\n",
    "    \"\"\"Find all two-digit numbers that require more than 20 iterations to become a palindrome.\"\"\"\n",
    "    result = []\n",
    "    for num in range(10, 100):\n",
    "        if process_number(num):\n",
    "            result.append(num)\n",
    "    return result\n",
    "\n",
    "numbers = find_two_digit_numbers()\n",
    "print(\"Two-digit numbers requiring more than 20 steps to become a palindrome:\", numbers)\n"
   ]
  },
  {
   "cell_type": "markdown",
   "id": "e2be6482",
   "metadata": {},
   "source": [
    "11. Write a program that finds all pairs of six-digit palindromic numbers that are less than 20\n",
    "      apart. One such pair is 199991 and 200002"
   ]
  },
  {
   "cell_type": "code",
   "execution_count": 10,
   "id": "0c4a188c",
   "metadata": {},
   "outputs": [
    {
     "name": "stdout",
     "output_type": "stream",
     "text": [
      "Pairs of six-digit palindromic numbers less than 20 apart:\n",
      "(199991, 200002)\n",
      "(299992, 300003)\n",
      "(399993, 400004)\n",
      "(499994, 500005)\n",
      "(599995, 600006)\n",
      "(699996, 700007)\n",
      "(799997, 800008)\n",
      "(899998, 900009)\n"
     ]
    }
   ],
   "source": [
    "def is_palindrome(num):\n",
    "    \"\"\"Check if a number is a palindrome.\"\"\"\n",
    "    return str(num) == str(num)[::-1]\n",
    "\n",
    "def generate_six_digit_palindromes():\n",
    "    \"\"\"Generate all six-digit palindromic numbers.\"\"\"\n",
    "    palindromes = []\n",
    "    for i in range(100, 1000):  # First three digits (100-999)\n",
    "        palindrome = int(f\"{i}{str(i)[::-1]}\")  # Create a six-digit palindrome\n",
    "        palindromes.append(palindrome)\n",
    "    return palindromes\n",
    "\n",
    "def find_close_palindrome_pairs(palindromes, max_difference=20):\n",
    "    \"\"\"Find pairs of palindromic numbers that are less than max_difference apart.\"\"\"\n",
    "    pairs = []\n",
    "    num_palindromes = len(palindromes)\n",
    "    for i in range(num_palindromes):\n",
    "        for j in range(i + 1, num_palindromes):\n",
    "            if abs(palindromes[j] - palindromes[i]) < max_difference:\n",
    "                pairs.append((palindromes[i], palindromes[j]))\n",
    "    return pairs\n",
    "\n",
    "# Generate six-digit palindromic numbers\n",
    "palindromes = generate_six_digit_palindromes()\n",
    "\n",
    "# Find and print pairs of palindromic numbers that are less than 20 apart\n",
    "pairs = find_close_palindrome_pairs(palindromes)\n",
    "print(\"Pairs of six-digit palindromic numbers less than 20 apart:\")\n",
    "for pair in pairs:\n",
    "    print(pair)\n"
   ]
  },
  {
   "cell_type": "markdown",
   "id": "f870d097",
   "metadata": {},
   "source": [
    "12. The number 1961 reads the same upside-down as right-side up. Print out all the numbers\n",
    "between 1 and 100000 that read the same upside-down as right-side up"
   ]
  },
  {
   "cell_type": "code",
   "execution_count": 11,
   "id": "53768943",
   "metadata": {},
   "outputs": [
    {
     "name": "stdout",
     "output_type": "stream",
     "text": [
      "1\n",
      "8\n",
      "11\n",
      "69\n",
      "88\n",
      "96\n",
      "101\n",
      "111\n",
      "181\n",
      "609\n",
      "619\n",
      "689\n",
      "808\n",
      "818\n",
      "888\n",
      "906\n",
      "916\n",
      "986\n",
      "1001\n",
      "1111\n",
      "1691\n",
      "1881\n",
      "1961\n",
      "6009\n",
      "6119\n",
      "6699\n",
      "6889\n",
      "6969\n",
      "8008\n",
      "8118\n",
      "8698\n",
      "8888\n",
      "8968\n",
      "9006\n",
      "9116\n",
      "9696\n",
      "9886\n",
      "9966\n",
      "10001\n",
      "10101\n",
      "10801\n",
      "11011\n",
      "11111\n",
      "11811\n",
      "16091\n",
      "16191\n",
      "16891\n",
      "18081\n",
      "18181\n",
      "18881\n",
      "19061\n",
      "19161\n",
      "19861\n",
      "60009\n",
      "60109\n",
      "60809\n",
      "61019\n",
      "61119\n",
      "61819\n",
      "66099\n",
      "66199\n",
      "66899\n",
      "68089\n",
      "68189\n",
      "68889\n",
      "69069\n",
      "69169\n",
      "69869\n",
      "80008\n",
      "80108\n",
      "80808\n",
      "81018\n",
      "81118\n",
      "81818\n",
      "86098\n",
      "86198\n",
      "86898\n",
      "88088\n",
      "88188\n",
      "88888\n",
      "89068\n",
      "89168\n",
      "89868\n",
      "90006\n",
      "90106\n",
      "90806\n",
      "91016\n",
      "91116\n",
      "91816\n",
      "96096\n",
      "96196\n",
      "96896\n",
      "98086\n",
      "98186\n",
      "98886\n",
      "99066\n",
      "99166\n",
      "99866\n"
     ]
    }
   ],
   "source": [
    "def is_valid_digit(digit):\n",
    "    \"\"\"Check if a digit has a valid upside-down counterpart.\"\"\"\n",
    "    return digit in '01689'\n",
    "\n",
    "def upside_down_digit(digit):\n",
    "    \"\"\"Return the upside-down counterpart of a digit.\"\"\"\n",
    "    return {\n",
    "        '0': '0',\n",
    "        '1': '1',\n",
    "        '6': '9',\n",
    "        '8': '8',\n",
    "        '9': '6'\n",
    "    }[digit]\n",
    "\n",
    "def is_upsidedown_palindrome(num):\n",
    "    \"\"\"Check if the number reads the same upside-down.\"\"\"\n",
    "    num_str = str(num)\n",
    "    if all(is_valid_digit(d) for d in num_str):\n",
    "        upside_down_str = ''.join(upside_down_digit(d) for d in reversed(num_str))\n",
    "        return upside_down_str == num_str\n",
    "    return False\n",
    "\n",
    "\n",
    "for num in range(1, 100001):\n",
    "    if is_upsidedown_palindrome(num):\n",
    "        print(num)\n"
   ]
  },
  {
   "cell_type": "markdown",
   "id": "9e380fda",
   "metadata": {},
   "source": [
    "13. The number 99 has the property that if we multiply its digits together and then add the sum\n",
    "of its digits to that, we get back to 99. That is, (9 × 9) + (9 + 9) = 99. Write a program to find\n",
    "all of the numbers less than 10000 with this property. (There are only nine of them.)"
   ]
  },
  {
   "cell_type": "code",
   "execution_count": 12,
   "id": "7f96c0bb",
   "metadata": {},
   "outputs": [
    {
     "name": "stdout",
     "output_type": "stream",
     "text": [
      "Special numbers less than 10000:\n",
      "19\n",
      "29\n",
      "39\n",
      "49\n",
      "59\n",
      "69\n",
      "79\n",
      "89\n",
      "99\n"
     ]
    }
   ],
   "source": [
    "def find_special_numbers(limit):\n",
    "    special_numbers = []\n",
    "    \n",
    "    for num in range(1, limit):\n",
    "        digits = [int(d) for d in str(num)]\n",
    "        product_of_digits = 1\n",
    "        sum_of_digits = 0\n",
    "        \n",
    "        for digit in digits:\n",
    "            product_of_digits *= digit\n",
    "            sum_of_digits += digit\n",
    "        \n",
    "        if product_of_digits + sum_of_digits == num:\n",
    "            special_numbers.append(num)\n",
    "    \n",
    "    return special_numbers\n",
    "\n",
    "\n",
    "special_numbers = find_special_numbers(10000)\n",
    "print(\"Special numbers less than 10000:\")\n",
    "for number in special_numbers:\n",
    "    print(number)\n"
   ]
  },
  {
   "cell_type": "markdown",
   "id": "7e44c8fc",
   "metadata": {},
   "source": [
    "14. Write a program to find the smallest positive integer that satisfies the following property: If\n",
    "you take the leftmost digit and move it all the way to the right, the number thus obtained is\n",
    "exactly 3.5 times larger than the original number. For instance, if we start with 2958 and move\n",
    "the 2 all the way to the right, we get 9582, which is roughly 3.2 times the original number.\n"
   ]
  },
  {
   "cell_type": "code",
   "execution_count": 13,
   "id": "9575bc6f",
   "metadata": {},
   "outputs": [
    {
     "name": "stdout",
     "output_type": "stream",
     "text": [
      "The smallest positive integer that satisfies the property is: 153846\n"
     ]
    }
   ],
   "source": [
    "def find_special_number(multiplier):\n",
    "    num = 1\n",
    "    while True:\n",
    "       \n",
    "        num_str = str(num)\n",
    "     \n",
    "        new_num_str = num_str[1:] + num_str[0]\n",
    "        new_num = int(new_num_str)\n",
    "        \n",
    "        \n",
    "        if new_num == multiplier * num:\n",
    "            return num\n",
    "        \n",
    "        num += 1\n",
    "\n",
    "special_number = find_special_number(3.5)\n",
    "print(f\"The smallest positive integer that satisfies the property is: {special_number}\")\n"
   ]
  },
  {
   "cell_type": "markdown",
   "id": "aff985dd",
   "metadata": {},
   "source": [
    "15. Write a program to determine how many zeroes 1000! ends with"
   ]
  },
  {
   "cell_type": "code",
   "execution_count": 14,
   "id": "56eb4faf",
   "metadata": {},
   "outputs": [
    {
     "name": "stdout",
     "output_type": "stream",
     "text": [
      "The number of trailing zeroes in 1000! is: 249\n"
     ]
    }
   ],
   "source": [
    "def count_trailing_zeroes(n):\n",
    "    count = 0\n",
    "    power_of_5 = 5\n",
    "    while n >= power_of_5:\n",
    "        count += n // power_of_5\n",
    "        power_of_5 *= 5\n",
    "    return count\n",
    "\n",
    "\n",
    "number = 1000\n",
    "trailing_zeroes = count_trailing_zeroes(number)\n",
    "print(f\"The number of trailing zeroes in {number}! is: {trailing_zeroes}\")\n"
   ]
  },
  {
   "cell_type": "markdown",
   "id": "50e5d5ca",
   "metadata": {},
   "source": [
    "16. Write a program that converts a decimal height in feet into feet and inches. For instance, an\n",
    "    input of 4.75 feet should become 4 feet, 9 inches"
   ]
  },
  {
   "cell_type": "code",
   "execution_count": 15,
   "id": "16e25f9a",
   "metadata": {},
   "outputs": [
    {
     "name": "stdout",
     "output_type": "stream",
     "text": [
      "Enter height in decimal feet (e.g., 4.75): 4.64\n",
      "4.64 feet is equivalent to 4 feet and 8 inches.\n"
     ]
    }
   ],
   "source": [
    "def convert_height(decimal_feet):\n",
    "    \n",
    "    feet = int(decimal_feet)\n",
    "    \n",
    "\n",
    "    decimal_part = decimal_feet - feet\n",
    "    inches = round(decimal_part * 12)\n",
    "    \n",
    "    return feet, inches\n",
    "\n",
    "\n",
    "decimal_height = float(input(\"Enter height in decimal feet (e.g., 4.75): \"))\n",
    "feet, inches = convert_height(decimal_height)\n",
    "print(f\"{decimal_height} feet is equivalent to {feet} feet and {inches} inches.\")\n"
   ]
  },
  {
   "cell_type": "markdown",
   "id": "90f99576",
   "metadata": {},
   "source": [
    "17. Write a program that repeatedly asks the user to enter a height in the format feet’inches\" (like\n",
    "    5'11\" or 6'3\". The user indicates they are done entering heights by entering done. The\n",
    "    program should return a count of how many 4-footers, 5-footers, 6-footers, and 7-footers\n",
    "    were entered."
   ]
  },
  {
   "cell_type": "code",
   "execution_count": 16,
   "id": "281059ce",
   "metadata": {},
   "outputs": [
    {
     "name": "stdout",
     "output_type": "stream",
     "text": [
      "Enter height (feet'inches) or 'done' to finish: 6.87\n",
      "Invalid input format. Please enter in feet'inches format.\n",
      "Enter height (feet'inches) or 'done' to finish: 66\n",
      "Invalid input format. Please enter in feet'inches format.\n",
      "Enter height (feet'inches) or 'done' to finish: 76.9\n",
      "Invalid input format. Please enter in feet'inches format.\n"
     ]
    },
    {
     "ename": "KeyboardInterrupt",
     "evalue": "Interrupted by user",
     "output_type": "error",
     "traceback": [
      "\u001b[1;31m---------------------------------------------------------------------------\u001b[0m",
      "\u001b[1;31mKeyboardInterrupt\u001b[0m                         Traceback (most recent call last)",
      "Cell \u001b[1;32mIn[16], line 22\u001b[0m\n\u001b[0;32m     19\u001b[0m         \u001b[38;5;28mprint\u001b[39m(\u001b[38;5;124mf\u001b[39m\u001b[38;5;124m\"\u001b[39m\u001b[38;5;132;01m{\u001b[39;00mfoot\u001b[38;5;132;01m}\u001b[39;00m\u001b[38;5;124m-footers: \u001b[39m\u001b[38;5;132;01m{\u001b[39;00mcounts[foot]\u001b[38;5;132;01m}\u001b[39;00m\u001b[38;5;124m\"\u001b[39m)\n\u001b[0;32m     21\u001b[0m \u001b[38;5;28;01mif\u001b[39;00m \u001b[38;5;18m__name__\u001b[39m \u001b[38;5;241m==\u001b[39m \u001b[38;5;124m\"\u001b[39m\u001b[38;5;124m__main__\u001b[39m\u001b[38;5;124m\"\u001b[39m:\n\u001b[1;32m---> 22\u001b[0m     main()\n",
      "Cell \u001b[1;32mIn[16], line 5\u001b[0m, in \u001b[0;36mmain\u001b[1;34m()\u001b[0m\n\u001b[0;32m      2\u001b[0m counts \u001b[38;5;241m=\u001b[39m {\u001b[38;5;241m4\u001b[39m: \u001b[38;5;241m0\u001b[39m, \u001b[38;5;241m5\u001b[39m: \u001b[38;5;241m0\u001b[39m, \u001b[38;5;241m6\u001b[39m: \u001b[38;5;241m0\u001b[39m, \u001b[38;5;241m7\u001b[39m: \u001b[38;5;241m0\u001b[39m}\n\u001b[0;32m      4\u001b[0m \u001b[38;5;28;01mwhile\u001b[39;00m \u001b[38;5;28;01mTrue\u001b[39;00m:\n\u001b[1;32m----> 5\u001b[0m     user_input \u001b[38;5;241m=\u001b[39m \u001b[38;5;28minput\u001b[39m(\u001b[38;5;124m\"\u001b[39m\u001b[38;5;124mEnter height (feet\u001b[39m\u001b[38;5;124m'\u001b[39m\u001b[38;5;124minches) or \u001b[39m\u001b[38;5;124m'\u001b[39m\u001b[38;5;124mdone\u001b[39m\u001b[38;5;124m'\u001b[39m\u001b[38;5;124m to finish: \u001b[39m\u001b[38;5;124m\"\u001b[39m)\n\u001b[0;32m      7\u001b[0m     \u001b[38;5;28;01mif\u001b[39;00m user_input\u001b[38;5;241m.\u001b[39mlower() \u001b[38;5;241m==\u001b[39m \u001b[38;5;124m\"\u001b[39m\u001b[38;5;124mdone\u001b[39m\u001b[38;5;124m\"\u001b[39m:\n\u001b[0;32m      8\u001b[0m         \u001b[38;5;28;01mbreak\u001b[39;00m\n",
      "File \u001b[1;32mC:\\ProgramData\\anaconda3\\Lib\\site-packages\\ipykernel\\kernelbase.py:1202\u001b[0m, in \u001b[0;36mKernel.raw_input\u001b[1;34m(self, prompt)\u001b[0m\n\u001b[0;32m   1200\u001b[0m     msg \u001b[38;5;241m=\u001b[39m \u001b[38;5;124m\"\u001b[39m\u001b[38;5;124mraw_input was called, but this frontend does not support input requests.\u001b[39m\u001b[38;5;124m\"\u001b[39m\n\u001b[0;32m   1201\u001b[0m     \u001b[38;5;28;01mraise\u001b[39;00m StdinNotImplementedError(msg)\n\u001b[1;32m-> 1202\u001b[0m \u001b[38;5;28;01mreturn\u001b[39;00m \u001b[38;5;28mself\u001b[39m\u001b[38;5;241m.\u001b[39m_input_request(\n\u001b[0;32m   1203\u001b[0m     \u001b[38;5;28mstr\u001b[39m(prompt),\n\u001b[0;32m   1204\u001b[0m     \u001b[38;5;28mself\u001b[39m\u001b[38;5;241m.\u001b[39m_parent_ident[\u001b[38;5;124m\"\u001b[39m\u001b[38;5;124mshell\u001b[39m\u001b[38;5;124m\"\u001b[39m],\n\u001b[0;32m   1205\u001b[0m     \u001b[38;5;28mself\u001b[39m\u001b[38;5;241m.\u001b[39mget_parent(\u001b[38;5;124m\"\u001b[39m\u001b[38;5;124mshell\u001b[39m\u001b[38;5;124m\"\u001b[39m),\n\u001b[0;32m   1206\u001b[0m     password\u001b[38;5;241m=\u001b[39m\u001b[38;5;28;01mFalse\u001b[39;00m,\n\u001b[0;32m   1207\u001b[0m )\n",
      "File \u001b[1;32mC:\\ProgramData\\anaconda3\\Lib\\site-packages\\ipykernel\\kernelbase.py:1245\u001b[0m, in \u001b[0;36mKernel._input_request\u001b[1;34m(self, prompt, ident, parent, password)\u001b[0m\n\u001b[0;32m   1242\u001b[0m \u001b[38;5;28;01mexcept\u001b[39;00m \u001b[38;5;167;01mKeyboardInterrupt\u001b[39;00m:\n\u001b[0;32m   1243\u001b[0m     \u001b[38;5;66;03m# re-raise KeyboardInterrupt, to truncate traceback\u001b[39;00m\n\u001b[0;32m   1244\u001b[0m     msg \u001b[38;5;241m=\u001b[39m \u001b[38;5;124m\"\u001b[39m\u001b[38;5;124mInterrupted by user\u001b[39m\u001b[38;5;124m\"\u001b[39m\n\u001b[1;32m-> 1245\u001b[0m     \u001b[38;5;28;01mraise\u001b[39;00m \u001b[38;5;167;01mKeyboardInterrupt\u001b[39;00m(msg) \u001b[38;5;28;01mfrom\u001b[39;00m \u001b[38;5;28;01mNone\u001b[39;00m\n\u001b[0;32m   1246\u001b[0m \u001b[38;5;28;01mexcept\u001b[39;00m \u001b[38;5;167;01mException\u001b[39;00m:\n\u001b[0;32m   1247\u001b[0m     \u001b[38;5;28mself\u001b[39m\u001b[38;5;241m.\u001b[39mlog\u001b[38;5;241m.\u001b[39mwarning(\u001b[38;5;124m\"\u001b[39m\u001b[38;5;124mInvalid Message:\u001b[39m\u001b[38;5;124m\"\u001b[39m, exc_info\u001b[38;5;241m=\u001b[39m\u001b[38;5;28;01mTrue\u001b[39;00m)\n",
      "\u001b[1;31mKeyboardInterrupt\u001b[0m: Interrupted by user"
     ]
    }
   ],
   "source": [
    "def main():\n",
    "    counts = {4: 0, 5: 0, 6: 0, 7: 0}\n",
    "    \n",
    "    while True:\n",
    "        user_input = input(\"Enter height (feet'inches) or 'done' to finish: \")\n",
    "        \n",
    "        if user_input.lower() == \"done\":\n",
    "            break\n",
    "        \n",
    "        try:\n",
    "            feet, _ = user_input.split(\"'\")\n",
    "            feet = int(feet)\n",
    "            if feet in counts:\n",
    "                counts[feet] += 1\n",
    "        except ValueError:\n",
    "            print(\"Invalid input format. Please enter in feet'inches format.\")\n",
    "\n",
    "    for foot in range(4, 8):\n",
    "        print(f\"{foot}-footers: {counts[foot]}\")\n",
    "\n",
    "if __name__ == \"__main__\":\n",
    "    main()\n"
   ]
  },
  {
   "cell_type": "markdown",
   "id": "78da9dbc",
   "metadata": {},
   "source": [
    "18. Write a program that repeatedly asks the user to enter a football score in the format winning\n",
    "score-losing score (like 27-13 or 21-3). The user indicates they are done entering scores by\n",
    "entering done. The program should then output the highest score and the lowest score out of\n",
    "all the scores entered"
   ]
  },
  {
   "cell_type": "code",
   "execution_count": 17,
   "id": "81af2973",
   "metadata": {},
   "outputs": [
    {
     "ename": "KeyboardInterrupt",
     "evalue": "Interrupted by user",
     "output_type": "error",
     "traceback": [
      "\u001b[1;31m---------------------------------------------------------------------------\u001b[0m",
      "\u001b[1;31mKeyboardInterrupt\u001b[0m                         Traceback (most recent call last)",
      "Cell \u001b[1;32mIn[17], line 30\u001b[0m\n\u001b[0;32m     27\u001b[0m         \u001b[38;5;28mprint\u001b[39m(\u001b[38;5;124m\"\u001b[39m\u001b[38;5;124mNo valid scores were entered.\u001b[39m\u001b[38;5;124m\"\u001b[39m)\n\u001b[0;32m     29\u001b[0m \u001b[38;5;28;01mif\u001b[39;00m \u001b[38;5;18m__name__\u001b[39m \u001b[38;5;241m==\u001b[39m \u001b[38;5;124m\"\u001b[39m\u001b[38;5;124m__main__\u001b[39m\u001b[38;5;124m\"\u001b[39m:\n\u001b[1;32m---> 30\u001b[0m     main()\n",
      "Cell \u001b[1;32mIn[17], line 6\u001b[0m, in \u001b[0;36mmain\u001b[1;34m()\u001b[0m\n\u001b[0;32m      3\u001b[0m lowest_score \u001b[38;5;241m=\u001b[39m \u001b[38;5;28;01mNone\u001b[39;00m\n\u001b[0;32m      5\u001b[0m \u001b[38;5;28;01mwhile\u001b[39;00m \u001b[38;5;28;01mTrue\u001b[39;00m:\n\u001b[1;32m----> 6\u001b[0m     user_input \u001b[38;5;241m=\u001b[39m \u001b[38;5;28minput\u001b[39m(\u001b[38;5;124m\"\u001b[39m\u001b[38;5;124mEnter football score (winning score-losing score) or \u001b[39m\u001b[38;5;124m'\u001b[39m\u001b[38;5;124mdone\u001b[39m\u001b[38;5;124m'\u001b[39m\u001b[38;5;124m to finish: \u001b[39m\u001b[38;5;124m\"\u001b[39m)\n\u001b[0;32m      8\u001b[0m     \u001b[38;5;28;01mif\u001b[39;00m user_input\u001b[38;5;241m.\u001b[39mlower() \u001b[38;5;241m==\u001b[39m \u001b[38;5;124m\"\u001b[39m\u001b[38;5;124mdone\u001b[39m\u001b[38;5;124m\"\u001b[39m:\n\u001b[0;32m      9\u001b[0m         \u001b[38;5;28;01mbreak\u001b[39;00m\n",
      "File \u001b[1;32mC:\\ProgramData\\anaconda3\\Lib\\site-packages\\ipykernel\\kernelbase.py:1202\u001b[0m, in \u001b[0;36mKernel.raw_input\u001b[1;34m(self, prompt)\u001b[0m\n\u001b[0;32m   1200\u001b[0m     msg \u001b[38;5;241m=\u001b[39m \u001b[38;5;124m\"\u001b[39m\u001b[38;5;124mraw_input was called, but this frontend does not support input requests.\u001b[39m\u001b[38;5;124m\"\u001b[39m\n\u001b[0;32m   1201\u001b[0m     \u001b[38;5;28;01mraise\u001b[39;00m StdinNotImplementedError(msg)\n\u001b[1;32m-> 1202\u001b[0m \u001b[38;5;28;01mreturn\u001b[39;00m \u001b[38;5;28mself\u001b[39m\u001b[38;5;241m.\u001b[39m_input_request(\n\u001b[0;32m   1203\u001b[0m     \u001b[38;5;28mstr\u001b[39m(prompt),\n\u001b[0;32m   1204\u001b[0m     \u001b[38;5;28mself\u001b[39m\u001b[38;5;241m.\u001b[39m_parent_ident[\u001b[38;5;124m\"\u001b[39m\u001b[38;5;124mshell\u001b[39m\u001b[38;5;124m\"\u001b[39m],\n\u001b[0;32m   1205\u001b[0m     \u001b[38;5;28mself\u001b[39m\u001b[38;5;241m.\u001b[39mget_parent(\u001b[38;5;124m\"\u001b[39m\u001b[38;5;124mshell\u001b[39m\u001b[38;5;124m\"\u001b[39m),\n\u001b[0;32m   1206\u001b[0m     password\u001b[38;5;241m=\u001b[39m\u001b[38;5;28;01mFalse\u001b[39;00m,\n\u001b[0;32m   1207\u001b[0m )\n",
      "File \u001b[1;32mC:\\ProgramData\\anaconda3\\Lib\\site-packages\\ipykernel\\kernelbase.py:1245\u001b[0m, in \u001b[0;36mKernel._input_request\u001b[1;34m(self, prompt, ident, parent, password)\u001b[0m\n\u001b[0;32m   1242\u001b[0m \u001b[38;5;28;01mexcept\u001b[39;00m \u001b[38;5;167;01mKeyboardInterrupt\u001b[39;00m:\n\u001b[0;32m   1243\u001b[0m     \u001b[38;5;66;03m# re-raise KeyboardInterrupt, to truncate traceback\u001b[39;00m\n\u001b[0;32m   1244\u001b[0m     msg \u001b[38;5;241m=\u001b[39m \u001b[38;5;124m\"\u001b[39m\u001b[38;5;124mInterrupted by user\u001b[39m\u001b[38;5;124m\"\u001b[39m\n\u001b[1;32m-> 1245\u001b[0m     \u001b[38;5;28;01mraise\u001b[39;00m \u001b[38;5;167;01mKeyboardInterrupt\u001b[39;00m(msg) \u001b[38;5;28;01mfrom\u001b[39;00m \u001b[38;5;28;01mNone\u001b[39;00m\n\u001b[0;32m   1246\u001b[0m \u001b[38;5;28;01mexcept\u001b[39;00m \u001b[38;5;167;01mException\u001b[39;00m:\n\u001b[0;32m   1247\u001b[0m     \u001b[38;5;28mself\u001b[39m\u001b[38;5;241m.\u001b[39mlog\u001b[38;5;241m.\u001b[39mwarning(\u001b[38;5;124m\"\u001b[39m\u001b[38;5;124mInvalid Message:\u001b[39m\u001b[38;5;124m\"\u001b[39m, exc_info\u001b[38;5;241m=\u001b[39m\u001b[38;5;28;01mTrue\u001b[39;00m)\n",
      "\u001b[1;31mKeyboardInterrupt\u001b[0m: Interrupted by user"
     ]
    }
   ],
   "source": [
    "def main():\n",
    "    highest_score = None\n",
    "    lowest_score = None\n",
    "\n",
    "    while True:\n",
    "        user_input = input(\"Enter football score (winning score-losing score) or 'done' to finish: \")\n",
    "        \n",
    "        if user_input.lower() == \"done\":\n",
    "            break\n",
    "        \n",
    "        try:\n",
    "            winning, losing = user_input.split('-')\n",
    "            winning, losing = int(winning), int(losing)\n",
    "            \n",
    "            if highest_score is None or winning > highest_score:\n",
    "                highest_score = winning\n",
    "            if lowest_score is None or losing < lowest_score:\n",
    "                lowest_score = losing\n",
    "                \n",
    "        except ValueError:\n",
    "            print(\"Invalid input format. Please enter in the format 'winning score-losing score'.\")\n",
    "\n",
    "    if highest_score is not None and lowest_score is not None:\n",
    "        print(f\"Highest score: {highest_score}\")\n",
    "        print(f\"Lowest score: {lowest_score}\")\n",
    "    else:\n",
    "        print(\"No valid scores were entered.\")\n",
    "\n",
    "if __name__ == \"__main__\":\n",
    "    main()\n"
   ]
  },
  {
   "cell_type": "markdown",
   "id": "8c7be905",
   "metadata": {},
   "source": [
    "19. Write a program that repeatedly asks the user to enter a birthday in the format month/day\n",
    "(like 12/25 or 2/14). The user indicates they are done entering birthdays by entering done.\n",
    "The program should return a count of how many of those birthdays are in February and how\n",
    "many are on the 25th of some month (any month).\n"
   ]
  },
  {
   "cell_type": "code",
   "execution_count": null,
   "id": "32e75bde",
   "metadata": {},
   "outputs": [
    {
     "name": "stdout",
     "output_type": "stream",
     "text": [
      "Enter birthday (month/day) or 'done' to finish: october\n",
      "Invalid input format. Please enter in the format 'month/day'.\n",
      "Enter birthday (month/day) or 'done' to finish: october/25\n",
      "Invalid input format. Please enter in the format 'month/day'.\n"
     ]
    }
   ],
   "source": [
    "def main():\n",
    "    february_count = 0\n",
    "    twenty_fifth_count = 0\n",
    "\n",
    "    while True:\n",
    "        user_input = input(\"Enter birthday (month/day) or 'done' to finish: \")\n",
    "        \n",
    "        if user_input.lower() == \"done\":\n",
    "            break\n",
    "        \n",
    "        try:\n",
    "            month, day = map(int, user_input.split('/'))\n",
    "            \n",
    "            if month == 2:\n",
    "                february_count += 1\n",
    "            if day == 25:\n",
    "                twenty_fifth_count += 1\n",
    "                \n",
    "        except ValueError:\n",
    "            print(\"Invalid input format. Please enter in the format 'month/day'.\")\n",
    "\n",
    "    print(f\"February birthdays: {february_count}\")\n",
    "    print(f\"Birthdays on the 25th: {twenty_fifth_count}\")\n",
    "\n",
    "if __name__ == \"__main__\":\n",
    "    main()\n"
   ]
  },
  {
   "cell_type": "markdown",
   "id": "9614ca01",
   "metadata": {},
   "source": [
    "20. Write a program that asks the user to enter a date in the format mm/dd/yy and converts it\n",
    "to a more verbose format. For example, 02/04/77 should get converted into February 4,\n",
    "1977."
   ]
  },
  {
   "cell_type": "code",
   "execution_count": null,
   "id": "e84b583b",
   "metadata": {},
   "outputs": [],
   "source": [
    "def main():\n",
    "    # List of month names\n",
    "    months = [\"January\", \"February\", \"March\", \"April\", \"May\", \"June\",\n",
    "              \"July\", \"August\", \"September\", \"October\", \"November\", \"December\"]\n",
    "    \n",
    "    user_input = input(\"Enter date (mm/dd/yy): \")\n",
    "    \n",
    "    try:\n",
    "        month, day, year = map(int, user_input.split('/'))\n",
    "        year += 1900  # Adjust year to 1900s\n",
    "\n",
    "        # Convert month number to month name\n",
    "        month_name = months[month - 1]\n",
    "        \n",
    "        # Print the formatted date\n",
    "        print(f\"{month_name} {day}, {year}\")\n",
    "\n",
    "    except ValueError:\n",
    "        print(\"Invalid input format. Please enter in the format mm/dd/yy.\")\n",
    "\n",
    "if __name__ == \"__main__\":\n",
    "    main()\n"
   ]
  },
  {
   "cell_type": "markdown",
   "id": "04d50644",
   "metadata": {},
   "source": [
    "21. Write a program that asks the user to enter a fraction in the form of a string like '1/2' or\n",
    "'8/24'. The program should reduce the fraction to lowest terms and print out the result"
   ]
  },
  {
   "cell_type": "code",
   "execution_count": null,
   "id": "40fc2d4f",
   "metadata": {},
   "outputs": [],
   "source": [
    "def gcd(a, b):\n",
    "    while b:\n",
    "        a, b = b, a % b\n",
    "    return a\n",
    "\n",
    "def main():\n",
    "    user_input = input(\"Enter a fraction (numerator/denominator): \")\n",
    "    \n",
    "    try:\n",
    "        numerator, denominator = map(int, user_input.split('/'))\n",
    "        \n",
    "        if denominator == 0:\n",
    "            print(\"Error: Denominator cannot be zero.\")\n",
    "            return\n",
    "        \n",
    "        \n",
    "        gcd_value = gcd(numerator, denominator)\n",
    "        \n",
    "        reduced_numerator = numerator // gcd_value\n",
    "        reduced_denominator = denominator // gcd_value\n",
    "        \n",
    "        print(f\"The reduced fraction is {reduced_numerator}/{reduced_denominator}\")\n",
    "    \n",
    "    except ValueError:\n",
    "        print(\"Invalid input format. Please enter in the format numerator/denominator.\")\n",
    "\n",
    "if __name__ == \"__main__\":\n",
    "    main()\n"
   ]
  },
  {
   "cell_type": "markdown",
   "id": "92d47d94",
   "metadata": {},
   "source": [
    "22. Write a program to find all four solutions to the following problem: If a starfruit is worth $5,\n",
    "a mango is worth $3, and three oranges together cost $1, how many starfruits, mangoes, and\n",
    "oranges, totaling 100, can be bought for $100"
   ]
  },
  {
   "cell_type": "code",
   "execution_count": null,
   "id": "aad36aa7",
   "metadata": {},
   "outputs": [],
   "source": [
    "def find_fruit_combinations():\n",
    "    starfruit_price = 5\n",
    "    mango_price = 3\n",
    "    orange_price = 1 / 3\n",
    "\n",
    "    total_fruits = 100\n",
    "    total_money = 100\n",
    "\n",
    "    solutions = []\n",
    "\n",
    "    for starfruits in range(total_fruits + 1):\n",
    "        for mangoes in range(total_fruits - starfruits + 1):\n",
    "            oranges = total_fruits - starfruits - mangoes\n",
    "            \n",
    "            if oranges < 0:\n",
    "                continue\n",
    "\n",
    "            total_cost = (starfruits * starfruit_price) + (mangoes * mango_price) + (oranges * orange_price)\n",
    "            \n",
    "            if total_cost == total_money:\n",
    "                solutions.append((starfruits, mangoes, oranges))\n",
    "    \n",
    "    return solutions\n",
    "\n",
    "def main():\n",
    "    solutions = find_fruit_combinations()\n",
    "    if solutions:\n",
    "        print(\"Possible combinations of starfruits, mangoes, and oranges:\")\n",
    "        for combo in solutions:\n",
    "            print(f\"Starfruits: {combo[0]}, Mangoes: {combo[1]}, Oranges: {combo[2]}\")\n",
    "    else:\n",
    "        print(\"No valid combinations found.\")\n",
    "\n",
    "if __name__ == \"__main__\":\n",
    "    main()\n"
   ]
  }
 ],
 "metadata": {
  "kernelspec": {
   "display_name": "Python 3 (ipykernel)",
   "language": "python",
   "name": "python3"
  },
  "language_info": {
   "codemirror_mode": {
    "name": "ipython",
    "version": 3
   },
   "file_extension": ".py",
   "mimetype": "text/x-python",
   "name": "python",
   "nbconvert_exporter": "python",
   "pygments_lexer": "ipython3",
   "version": "3.11.5"
  }
 },
 "nbformat": 4,
 "nbformat_minor": 5
}
